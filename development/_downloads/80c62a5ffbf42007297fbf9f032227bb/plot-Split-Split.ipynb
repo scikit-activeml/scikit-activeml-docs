{
  "cells": [
    {
      "cell_type": "markdown",
      "metadata": {},
      "source": [
        "\n# Split\n"
      ]
    },
    {
      "cell_type": "markdown",
      "metadata": {},
      "source": [
        "<div class=\"alert alert-info\"><h4>Note</h4><p>The generated animation can be found at the bottom of the page.</p></div>\n\n| **Google Colab Note**: If the notebook fails to run after installing the\n  needed packages, try to restart the runtime (Ctrl + M) under\n  Runtime -> Restart session.\n\n<img src=\"https://colab.research.google.com/assets/colab-badge.svg\" target=\"https://colab.research.google.com/github/scikit-activeml/scikit-activeml-docs/blob/gh-pages/latest/generated/sphinx_gallery_notebooks//stream/plot-Split-Split.ipynb\">\n\n| **Notebook Dependencies**\n| Uncomment the following cell to install all dependencies for this\n  tutorial.\n\n"
      ]
    },
    {
      "cell_type": "code",
      "execution_count": null,
      "metadata": {
        "collapsed": false
      },
      "outputs": [],
      "source": [
        "# !pip install scikit-activeml"
      ]
    },
    {
      "cell_type": "markdown",
      "metadata": {},
      "source": [
        ".. raw:: html\n\n  <hr style=\"border-style: solid; border-top: 1px solid; border-right: 0; border-bottom: 0; border-left: 0;\">\n\n\n"
      ]
    },
    {
      "cell_type": "code",
      "execution_count": null,
      "metadata": {
        "collapsed": false
      },
      "outputs": [],
      "source": [
        "import numpy as np\nfrom matplotlib import pyplot as plt, animation\nfrom sklearn.datasets import make_blobs\n\nfrom skactiveml.utils import MISSING_LABEL\nfrom skactiveml.visualization import (\n    plot_stream_training_data,\n    plot_stream_decision_boundary,\n)\n\nfrom skactiveml.classifier import ParzenWindowClassifier\nfrom skactiveml.stream import Split\n\n# Set a fixed random state for reproducibility.\nrandom_state = np.random.RandomState(0)\n\n# Initial training set size.\ninit_size = 0  # e.g. 0 or any integer value\n\n# Build a dataset.\nX, y_true = make_blobs(\n    n_samples=200 + init_size,\n    n_features=1,\n    centers=[[0], [-3], [1], [2], [-0.5]],\n    cluster_std=0.7,\n    random_state=random_state,\n)\ny_true = y_true % 2  # Convert labels to binary (0, 1)\n\n# Split the data into initial training and streaming parts.\nX_init = X[:init_size]\ny_init = y_true[:init_size]\nX_stream = X[init_size:]\ny_stream = y_true[init_size:]\n\n# Initialise the classifier.\nclf = ParzenWindowClassifier(classes=[0, 1], random_state=random_state)\n\n# Initialise the query strategy.\nqs = Split(budget=0.2)\nplot_step = 5\n\n# Initialize training data with initial examples.\nX_train = list(X_init)\ny_train = list(y_init)\nclasses = np.unique(y_true)\n\n# Preparation for plotting.\nfig, ax = plt.subplots()\nfeature_bound = [[0, len(X)], [min(X), max(X)]]\nax.set_xlim(0, len(X))\nax.set_ylim(bottom=min(X), top=max(X))\nartists = []  # List to store frames for the animation\n\n# List to track whether each sample was queried (True) or not (False).\nqueried_indices = [True] * len(y_init)\n# List to store decision boundary predictions over time.\npredictions_list = []\n\n# Process each streaming sample.\nfor t_x, (x_t, y_t) in enumerate(zip(X_stream, y_stream)):\n\n    X_cand = x_t.reshape([1, -1])\n    y_cand = y_t\n\n    # Fit the classifier with current training data.\n    clf.fit(X_train, y_train)\n\n    # Check whether to query the current sample or not.\n    sampled_indices, utilities = qs.query(\n        candidates=X_cand, clf=clf, return_utilities=True\n    )\n    budget_manager_param_dict = {\"utilities\": utilities}\n    # Update the query strategy and budget manager to calculate the right budget.\n    qs.update(candidates=X_cand, queried_indices=sampled_indices)\n\n    # Label the sample based on whether it was queried.\n    X_train.append(x_t)\n    y_train.append(y_t if len(sampled_indices) else MISSING_LABEL)\n\n    queried_indices.append(len(sampled_indices) > 0)\n\n    # Plot the current state at intervals defined by plot_step.\n    if t_x % plot_step == 0:\n        # Save current plot elements to determine what is new.\n        coll_old = list(ax.collections)\n        ax, predictions_list = plot_stream_decision_boundary(\n            ax, t_x, plot_step, clf, X, predictions_list, res=25\n        )\n        data_lines = plot_stream_training_data(\n            ax, X_train, y_train, queried_indices, classes, feature_bound\n        )\n\n        title_string = (\n            f\"Decision boundary after {t_x} new samples\\n\"\n            f\"Utility: {utilities[0]:.4f} | \"\n            f\"Budget: {sum(queried_indices) / (t_x + 1):.4f}\"\n        )\n        title = ax.text(\n            x=0.5,\n            y=1.05,\n            s=title_string,\n            size=plt.rcParams[\"axes.titlesize\"],\n            ha=\"center\",\n            transform=ax.transAxes,\n        )\n        coll_new = list(ax.collections)\n        coll_new.append(title)\n\n        # Collect new artists (plot elements) to animate.\n        artists.append(\n            [x for x in coll_new if (x not in coll_old)] + data_lines\n        )\n\n# Create an animation from the collected frames.\nani = animation.ArtistAnimation(fig, artists, interval=500, blit=True)"
      ]
    },
    {
      "cell_type": "markdown",
      "metadata": {},
      "source": [
        "<img src=\"file://../../examples/stream_classification_legend.png\">\n\n"
      ]
    },
    {
      "cell_type": "markdown",
      "metadata": {},
      "source": [
        ".. rubric:: References:\n\nThe implementation of this strategy is based on :footcite:t:`zliobaite2014active`.\n\n.. footbibliography::\n\n"
      ]
    }
  ],
  "metadata": {
    "kernelspec": {
      "display_name": "Python 3",
      "language": "python",
      "name": "python3"
    },
    "language_info": {
      "codemirror_mode": {
        "name": "ipython",
        "version": 3
      },
      "file_extension": ".py",
      "mimetype": "text/x-python",
      "name": "python",
      "nbconvert_exporter": "python",
      "pygments_lexer": "ipython3",
      "version": "3.9.21"
    }
  },
  "nbformat": 4,
  "nbformat_minor": 0
}