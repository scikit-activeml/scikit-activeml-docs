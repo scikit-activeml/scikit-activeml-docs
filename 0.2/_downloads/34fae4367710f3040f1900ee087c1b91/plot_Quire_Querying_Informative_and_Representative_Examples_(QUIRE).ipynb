{
  "cells": [
    {
      "cell_type": "code",
      "execution_count": null,
      "metadata": {
        "collapsed": false
      },
      "outputs": [],
      "source": [
        "%matplotlib inline"
      ]
    },
    {
      "cell_type": "markdown",
      "metadata": {},
      "source": [
        "\n# Querying Informative and Representative Examples\n"
      ]
    },
    {
      "cell_type": "code",
      "execution_count": null,
      "metadata": {
        "collapsed": false
      },
      "outputs": [],
      "source": [
        "import numpy as np\nfrom matplotlib import pyplot as plt, animation\nfrom sklearn.datasets import make_blobs\n\nfrom skactiveml.utils import MISSING_LABEL, labeled_indices\nfrom skactiveml.visualization import plot_utilities, plot_decision_boundary\n\nfrom skactiveml.pool import Quire\nfrom skactiveml.classifier import ParzenWindowClassifier\n\nrandom_state = np.random.RandomState(0)\n\n# Build a dataset.\nX, y_true = make_blobs(n_samples=100, n_features=2,\n                       centers=[[0, 1], [-3, .5], [-1, -1], [2, 1], [1, -.5]],\n                       cluster_std=.7, random_state=random_state)\ny_true = y_true % 2\ny = np.full(shape=y_true.shape, fill_value=MISSING_LABEL)\n\n# Initialise the classifier.\nclf = ParzenWindowClassifier(classes=[0, 1], random_state=random_state)\n# Initialise the query strategy.\nqs = Quire(classes=[0, 1], lmbda=1.0, metric='rbf', metric_dict={'gamma': 0.1}, random_state=random_state)\n\n# Preparation for plotting.\nfig, ax = plt.subplots()\nfeature_bound = [[min(X[:, 0]), min(X[:, 1])], [max(X[:, 0]), max(X[:, 1])]]\nartists = []\n\n# The active learning cycle:\nn_cycles = 25\nfor c in range(n_cycles):\n    # Fit the classifier.\n    clf.fit(X, y)\n\n    # Get labeled instances.\n    X_labeled = X[labeled_indices(y)]\n\n    # Query the next instance/s.\n    query_params = {}\n    query_idx = qs.query(X=X, y=y, **query_params)\n\n    # Plot the labeled data.\n    coll_old = list(ax.collections)\n    title = ax.text(\n        0.5, 1.05, f\"Decision boundary after acquring {c} labels\",\n        size=plt.rcParams[\"axes.titlesize\"], ha=\"center\",\n        transform=ax.transAxes\n    )\n    ax = plot_utilities(qs, X=X, y=y, candidates=None,\n                        **query_params,\n                        res=21, feature_bound=feature_bound, ax=ax)\n    ax.scatter(X[:, 0], X[:, 1], c=y_true, cmap=\"coolwarm\", marker=\".\",\n               zorder=2)\n    ax.scatter(X_labeled[:, 0], X_labeled[:, 1], c=\"grey\", alpha=.8,\n               marker=\".\", s=300)\n    ax = plot_decision_boundary(clf, feature_bound, ax=ax)\n\n    coll_new = list(ax.collections)\n    coll_new.append(title)\n    artists.append([x for x in coll_new if (x not in coll_old)])\n\n    # Label the queried instances.\n    y[query_idx] = y_true[query_idx]\n\nani = animation.ArtistAnimation(fig, artists, interval=1000, blit=True)"
      ]
    },
    {
      "cell_type": "markdown",
      "metadata": {},
      "source": [
        ".. rubric:: References:\n\nThe implementation of this strategy is based on :footcite:t:`huang2010active`.\n\n.. footbibliography::\n\n"
      ]
    }
  ],
  "metadata": {
    "kernelspec": {
      "display_name": "Python 3",
      "language": "python",
      "name": "python3"
    },
    "language_info": {
      "codemirror_mode": {
        "name": "ipython",
        "version": 3
      },
      "file_extension": ".py",
      "mimetype": "text/x-python",
      "name": "python",
      "nbconvert_exporter": "python",
      "pygments_lexer": "ipython3",
      "version": "3.8.13"
    }
  },
  "nbformat": 4,
  "nbformat_minor": 0
}