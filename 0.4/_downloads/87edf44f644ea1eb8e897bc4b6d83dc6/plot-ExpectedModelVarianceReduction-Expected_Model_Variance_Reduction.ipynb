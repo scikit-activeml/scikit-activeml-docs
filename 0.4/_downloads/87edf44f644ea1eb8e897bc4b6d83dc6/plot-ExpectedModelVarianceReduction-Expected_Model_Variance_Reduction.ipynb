{
  "cells": [
    {
      "cell_type": "markdown",
      "metadata": {},
      "source": [
        "\n# Expected Model Variance Reduction\n"
      ]
    },
    {
      "cell_type": "code",
      "execution_count": null,
      "metadata": {
        "collapsed": false
      },
      "outputs": [],
      "source": [
        "import numpy as np\nfrom matplotlib import pyplot as plt, animation\nfrom scipy.stats import uniform\n\nfrom skactiveml.utils import MISSING_LABEL, labeled_indices, is_labeled\n\nfrom skactiveml.regressor import NICKernelRegressor\nfrom skactiveml.pool import ExpectedModelVarianceReduction\n\nrandom_state = np.random.RandomState(0)\n\n\ndef true_function(X_):\n    return (X_**3 + 2 * X_**2 + X_ - 1).flatten()\n\nn_samples = 100\nX = np.concatenate(\n        [uniform.rvs(0, 1.5, 9 * n_samples // 10, random_state=random_state),\n         uniform.rvs(1.5, 0.5, n_samples // 10, random_state=random_state)]\n    ).reshape(-1, 1)\n\nnoise = np.vectorize(lambda x : random_state.rand() * 1.5 if x < 1\n                                else random_state.rand() * 0.5)\n\n# Build a dataset.\ny_true = true_function(X) + noise(X).flatten()\ny = np.full(shape=y_true.shape, fill_value=MISSING_LABEL)\nX_test = np.linspace(0, 2, num=100).reshape(-1, 1)\n\n# Initialise the classifier.\nreg = NICKernelRegressor(random_state=random_state, metric_dict={'gamma': 15.0})\n# Initialise the query strategy.\nqs = ExpectedModelVarianceReduction()\n\n\n# Preparation for plotting.\nfig, (ax_1, ax_2) = plt.subplots(2, 1, sharex=True)\nartists = []\n\n# The active learning cycle:\nn_cycles = 20\nfor c in range(n_cycles):\n    # Fit the classifier.\n    reg.fit(X, y)\n\n    # Get labeled instances.\n    X_labeled = X[labeled_indices(y)]\n\n    # Query the next instance/s.\n    query_idx = qs.query(X=X, y=y, reg=reg)\n\n    # Plot the labeled data.\n    coll_old = list(ax_1.collections) + list(ax_2.collections)\n    title = ax_1.text(\n        0.5,\n        1.05,\n        f\"Prediction after acquring {c} labels\",\n        size=plt.rcParams[\"axes.titlesize\"],\n        ha=\"center\",\n        transform=ax_1.transAxes,\n    )\n\n    _, utilities_test = qs.query(\n        X=X, y=y, reg=reg, candidates=X_test, return_utilities=True\n    )\n\n    utilities_test = (utilities_test - utilities_test.min()).flatten()\n    if np.any(utilities_test != utilities_test[0]):\n        utilities_test /= utilities_test.max()\n\n    is_lbld = is_labeled(y)\n\n    (utility_line,) = ax_2.plot(X_test, utilities_test, c=\"green\")\n    utility_fill = plt.fill_between(\n        X_test.flatten(), utilities_test, color=\"green\", alpha=0.3\n    )\n\n    ax_1.scatter(X[~is_lbld], y_true[~is_lbld], c=\"lightblue\")\n    ax_1.scatter(X[is_lbld], y[is_lbld], c=\"orange\")\n\n    y_pred = reg.predict(X_test)\n    (prediction_line,) = ax_1.plot(X_test, y_pred, c=\"black\")\n\n    coll_new = list(ax_1.collections) + list(ax_2.collections)\n    coll_new.append(title)\n    artists.append(\n        [x for x in coll_new if (x not in coll_old)]\n        + [utility_line, utility_fill, prediction_line]\n    )\n\n    # Label the queried instances.\n    y[query_idx] = y_true[query_idx]\n\nani = animation.ArtistAnimation(fig, artists, interval=1000, blit=True)"
      ]
    },
    {
      "cell_type": "markdown",
      "metadata": {},
      "source": [
        "<img src=\"file://../../examples/pool_regression_legend.png\">\n\n"
      ]
    },
    {
      "cell_type": "markdown",
      "metadata": {},
      "source": [
        ".. rubric:: References:\n\nThe implementation of this strategy is based on :footcite:t:`cohn1996active`.\n\n.. footbibliography::\n\n"
      ]
    }
  ],
  "metadata": {
    "kernelspec": {
      "display_name": "Python 3",
      "language": "python",
      "name": "python3"
    },
    "language_info": {
      "codemirror_mode": {
        "name": "ipython",
        "version": 3
      },
      "file_extension": ".py",
      "mimetype": "text/x-python",
      "name": "python",
      "nbconvert_exporter": "python",
      "pygments_lexer": "ipython3",
      "version": "3.9.17"
    }
  },
  "nbformat": 4,
  "nbformat_minor": 0
}